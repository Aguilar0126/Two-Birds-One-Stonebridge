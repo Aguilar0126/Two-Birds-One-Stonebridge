{
 "cells": [
  {
   "cell_type": "markdown",
   "id": "3d6b3568",
   "metadata": {},
   "source": [
    "# Exploratory Analysis of Ames Housing Dataset"
   ]
  },
  {
   "cell_type": "markdown",
   "id": "526d751d",
   "metadata": {},
   "source": [
    "#### Libraries"
   ]
  },
  {
   "cell_type": "code",
   "execution_count": 1,
   "id": "ea30d250",
   "metadata": {},
   "outputs": [],
   "source": [
    "import pandas as pd"
   ]
  },
  {
   "cell_type": "markdown",
   "id": "95f485ed",
   "metadata": {},
   "source": [
    "### Load the Data"
   ]
  },
  {
   "cell_type": "code",
   "execution_count": 3,
   "id": "6eff046e",
   "metadata": {},
   "outputs": [],
   "source": [
    "ames = pd.read_csv('../data/AmesHousing.csv')"
   ]
  }
 ],
 "metadata": {
  "kernelspec": {
   "display_name": "base",
   "language": "python",
   "name": "python3"
  },
  "language_info": {
   "codemirror_mode": {
    "name": "ipython",
    "version": 3
   },
   "file_extension": ".py",
   "mimetype": "text/x-python",
   "name": "python",
   "nbconvert_exporter": "python",
   "pygments_lexer": "ipython3",
   "version": "3.13.5"
  }
 },
 "nbformat": 4,
 "nbformat_minor": 5
}

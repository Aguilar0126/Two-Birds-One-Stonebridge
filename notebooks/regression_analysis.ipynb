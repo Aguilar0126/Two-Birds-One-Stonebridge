{
 "cells": [
  {
   "cell_type": "markdown",
   "id": "acbe20b4",
   "metadata": {},
   "source": [
    "# Regression Analysis for the Ames Housing Dataset"
   ]
  },
  {
   "cell_type": "markdown",
   "id": "d158d51e",
   "metadata": {},
   "source": [
    "#### Libraries"
   ]
  },
  {
   "cell_type": "code",
   "execution_count": 1,
   "id": "f398bf21",
   "metadata": {},
   "outputs": [],
   "source": [
    "import pandas as pd"
   ]
  },
  {
   "cell_type": "markdown",
   "id": "480fb8ce",
   "metadata": {},
   "source": [
    "## Load the Data"
   ]
  },
  {
   "cell_type": "code",
   "execution_count": 2,
   "id": "09d25442",
   "metadata": {},
   "outputs": [],
   "source": [
    "ames = pd.read_csv('../data/AmesHousing.csv')"
   ]
  }
 ],
 "metadata": {
  "kernelspec": {
   "display_name": "base",
   "language": "python",
   "name": "python3"
  },
  "language_info": {
   "codemirror_mode": {
    "name": "ipython",
    "version": 3
   },
   "file_extension": ".py",
   "mimetype": "text/x-python",
   "name": "python",
   "nbconvert_exporter": "python",
   "pygments_lexer": "ipython3",
   "version": "3.13.5"
  }
 },
 "nbformat": 4,
 "nbformat_minor": 5
}
